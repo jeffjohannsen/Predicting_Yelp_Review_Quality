{
 "cells": [
  {
   "cell_type": "markdown",
   "id": "naughty-london",
   "metadata": {},
   "source": [
    "# Review Ranking"
   ]
  },
  {
   "cell_type": "markdown",
   "id": "hindu-natural",
   "metadata": {},
   "source": [
    "This notebook contains:\n",
    "* EDA of review predictions.\n",
    "* Analysis of how well the models rank the reviews."
   ]
  },
  {
   "cell_type": "markdown",
   "id": "european-idaho",
   "metadata": {},
   "source": [
    "## Imports and Global Settings"
   ]
  },
  {
   "cell_type": "code",
   "execution_count": 41,
   "id": "behavioral-calcium",
   "metadata": {},
   "outputs": [],
   "source": [
    "import math\n",
    "import numpy as np\n",
    "import pandas as pd\n",
    "import matplotlib.pyplot as plt\n",
    "import seaborn as sns\n",
    "from scipy import stats\n",
    "from sklearn.metrics import r2_score\n",
    "\n",
    "pd.set_option('display.float_format', lambda x: '%.5f' % x)\n",
    "pd.set_option(\"display.max_columns\", 200)\n",
    "pd.set_option(\"display.max_rows\", 200)\n",
    "sns.set_theme(style=\"whitegrid\")"
   ]
  },
  {
   "cell_type": "markdown",
   "id": "sustained-feeding",
   "metadata": {},
   "source": [
    "## Load Data"
   ]
  },
  {
   "cell_type": "code",
   "execution_count": 2,
   "id": "colonial-channels",
   "metadata": {},
   "outputs": [],
   "source": [
    "# EC2\n",
    "# filepath_prefix = \"/home/ubuntu/\"\n",
    "\n",
    "# Local\n",
    "filepath_prefix = \"/home/jeff/Documents/Data_Science_Projects/Yelp_Reviews/data/full_data/final_predict/\""
   ]
  },
  {
   "cell_type": "code",
   "execution_count": 3,
   "id": "practical-brisbane",
   "metadata": {},
   "outputs": [],
   "source": [
    "train_records_to_load = 5523992 # Total: 5523992\n",
    "test_records_to_load = 1382379 # Total: 1382379"
   ]
  },
  {
   "cell_type": "code",
   "execution_count": 4,
   "id": "unexpected-ridge",
   "metadata": {},
   "outputs": [],
   "source": [
    "datatypes = {'target_reg': 'int16',\n",
    "             'log_reg_pred_proba': 'float32',\n",
    "             'lin_reg_pred': 'float32',\n",
    "             'review_stars': 'int16',\n",
    "             'nb_prob': 'float32',\n",
    "             'svm_pred': 'float32',\n",
    "             'ft_prob': 'float32',\n",
    "             'lda_t1': 'float32',\n",
    "             'lda_t2': 'float32',\n",
    "             'lda_t3': 'float32',\n",
    "             'lda_t4': 'float32',\n",
    "             'lda_t5': 'float32',\n",
    "             'grade_level': 'float32',\n",
    "             'polarity': 'float32',\n",
    "             'subjectivity': 'float32',\n",
    "             'word_cnt': 'int16',\n",
    "             'character_cnt': 'int16'}\n",
    "\n",
    "columns_to_load = ['review_id', 'user_id', 'business_id', 'date', 'target_clf'] + list(datatypes.keys())"
   ]
  },
  {
   "cell_type": "code",
   "execution_count": 5,
   "id": "indian-initial",
   "metadata": {},
   "outputs": [],
   "source": [
    "train = pd.read_csv(f\"{filepath_prefix}train_rank.csv\", nrows=train_records_to_load,\n",
    "                    true_values=[\"True\"], false_values=[\"False\"], usecols=columns_to_load,\n",
    "                    dtype=datatypes, parse_dates=['date'], infer_datetime_format=True)\n",
    "test = pd.read_csv(f\"{filepath_prefix}test_rank.csv\", nrows=test_records_to_load,\n",
    "                   true_values=[\"True\"], false_values=[\"False\"], usecols=columns_to_load,\n",
    "                   dtype=datatypes, parse_dates=['date'], infer_datetime_format=True)"
   ]
  },
  {
   "cell_type": "code",
   "execution_count": 11,
   "id": "provincial-price",
   "metadata": {},
   "outputs": [],
   "source": [
    "all_data = pd.concat([train, test], ignore_index=True, verify_integrity=True)"
   ]
  },
  {
   "cell_type": "markdown",
   "id": "amino-impact",
   "metadata": {},
   "source": [
    "## Basic Overview"
   ]
  },
  {
   "cell_type": "code",
   "execution_count": 12,
   "id": "developmental-scholarship",
   "metadata": {},
   "outputs": [
    {
     "name": "stdout",
     "output_type": "stream",
     "text": [
      "(6906371, 22)\n"
     ]
    }
   ],
   "source": [
    "print(all_data.shape)"
   ]
  },
  {
   "cell_type": "code",
   "execution_count": 13,
   "id": "solved-smith",
   "metadata": {},
   "outputs": [
    {
     "name": "stdout",
     "output_type": "stream",
     "text": [
      "<class 'pandas.core.frame.DataFrame'>\n",
      "RangeIndex: 6906371 entries, 0 to 6906370\n",
      "Data columns (total 22 columns):\n",
      " #   Column              Dtype         \n",
      "---  ------              -----         \n",
      " 0   review_id           object        \n",
      " 1   user_id             object        \n",
      " 2   business_id         object        \n",
      " 3   date                datetime64[ns]\n",
      " 4   target_clf          bool          \n",
      " 5   target_reg          int16         \n",
      " 6   log_reg_pred_proba  float32       \n",
      " 7   lin_reg_pred        float32       \n",
      " 8   nb_prob             float32       \n",
      " 9   svm_pred            float32       \n",
      " 10  ft_prob             float32       \n",
      " 11  lda_t1              float32       \n",
      " 12  lda_t2              float32       \n",
      " 13  lda_t3              float32       \n",
      " 14  lda_t4              float32       \n",
      " 15  lda_t5              float32       \n",
      " 16  grade_level         float32       \n",
      " 17  polarity            float32       \n",
      " 18  subjectivity        float32       \n",
      " 19  word_cnt            int16         \n",
      " 20  character_cnt       int16         \n",
      " 21  review_stars        int16         \n",
      "dtypes: bool(1), datetime64[ns](1), float32(13), int16(4), object(3)\n",
      "memory usage: 612.5+ MB\n"
     ]
    }
   ],
   "source": [
    "all_data.info()"
   ]
  },
  {
   "cell_type": "code",
   "execution_count": 14,
   "id": "supreme-router",
   "metadata": {},
   "outputs": [
    {
     "data": {
      "text/html": [
       "<div>\n",
       "<style scoped>\n",
       "    .dataframe tbody tr th:only-of-type {\n",
       "        vertical-align: middle;\n",
       "    }\n",
       "\n",
       "    .dataframe tbody tr th {\n",
       "        vertical-align: top;\n",
       "    }\n",
       "\n",
       "    .dataframe thead th {\n",
       "        text-align: right;\n",
       "    }\n",
       "</style>\n",
       "<table border=\"1\" class=\"dataframe\">\n",
       "  <thead>\n",
       "    <tr style=\"text-align: right;\">\n",
       "      <th></th>\n",
       "      <th>review_id</th>\n",
       "      <th>user_id</th>\n",
       "      <th>business_id</th>\n",
       "      <th>date</th>\n",
       "      <th>target_clf</th>\n",
       "      <th>target_reg</th>\n",
       "      <th>log_reg_pred_proba</th>\n",
       "      <th>lin_reg_pred</th>\n",
       "      <th>nb_prob</th>\n",
       "      <th>svm_pred</th>\n",
       "      <th>ft_prob</th>\n",
       "      <th>lda_t1</th>\n",
       "      <th>lda_t2</th>\n",
       "      <th>lda_t3</th>\n",
       "      <th>lda_t4</th>\n",
       "      <th>lda_t5</th>\n",
       "      <th>grade_level</th>\n",
       "      <th>polarity</th>\n",
       "      <th>subjectivity</th>\n",
       "      <th>word_cnt</th>\n",
       "      <th>character_cnt</th>\n",
       "      <th>review_stars</th>\n",
       "    </tr>\n",
       "  </thead>\n",
       "  <tbody>\n",
       "    <tr>\n",
       "      <th>0</th>\n",
       "      <td>syrAB11Ayj0qb64M3orNyQ</td>\n",
       "      <td>eJTjh_nIJC7ldCuU-z7W5Q</td>\n",
       "      <td>VJj_xjjWX_UHaFNL91_Duw</td>\n",
       "      <td>2007-04-09 00:41:12</td>\n",
       "      <td>False</td>\n",
       "      <td>0</td>\n",
       "      <td>0.77250</td>\n",
       "      <td>3.85699</td>\n",
       "      <td>0.00000</td>\n",
       "      <td>0.80500</td>\n",
       "      <td>0.78156</td>\n",
       "      <td>0.00490</td>\n",
       "      <td>0.00489</td>\n",
       "      <td>0.83379</td>\n",
       "      <td>0.15149</td>\n",
       "      <td>0.00493</td>\n",
       "      <td>12.10000</td>\n",
       "      <td>0.13819</td>\n",
       "      <td>0.58714</td>\n",
       "      <td>91</td>\n",
       "      <td>552</td>\n",
       "      <td>4</td>\n",
       "    </tr>\n",
       "    <tr>\n",
       "      <th>1</th>\n",
       "      <td>ybCCcr1ICVynGJBx0lpBAw</td>\n",
       "      <td>cibQYbrbI4UoEqeD0vpxmA</td>\n",
       "      <td>Qz-R16P6zvgJrRerqdtIaQ</td>\n",
       "      <td>2019-03-17 14:17:40</td>\n",
       "      <td>False</td>\n",
       "      <td>0</td>\n",
       "      <td>0.52248</td>\n",
       "      <td>2.16479</td>\n",
       "      <td>0.88500</td>\n",
       "      <td>-0.35600</td>\n",
       "      <td>0.61055</td>\n",
       "      <td>0.00686</td>\n",
       "      <td>0.00729</td>\n",
       "      <td>0.97217</td>\n",
       "      <td>0.00684</td>\n",
       "      <td>0.00685</td>\n",
       "      <td>5.30000</td>\n",
       "      <td>0.44034</td>\n",
       "      <td>0.66364</td>\n",
       "      <td>57</td>\n",
       "      <td>338</td>\n",
       "      <td>4</td>\n",
       "    </tr>\n",
       "    <tr>\n",
       "      <th>2</th>\n",
       "      <td>HBuNpb82_z25gLK2htZjZw</td>\n",
       "      <td>wcgCqmw7mx7cEg5jgrgnEA</td>\n",
       "      <td>y2w6rFaO0XEiG5mFfOsiFA</td>\n",
       "      <td>2019-04-02 22:12:04</td>\n",
       "      <td>True</td>\n",
       "      <td>4</td>\n",
       "      <td>0.56829</td>\n",
       "      <td>2.71898</td>\n",
       "      <td>0.00400</td>\n",
       "      <td>-0.01400</td>\n",
       "      <td>0.59267</td>\n",
       "      <td>0.00297</td>\n",
       "      <td>0.00297</td>\n",
       "      <td>0.21996</td>\n",
       "      <td>0.51115</td>\n",
       "      <td>0.26294</td>\n",
       "      <td>27.60000</td>\n",
       "      <td>0.28628</td>\n",
       "      <td>0.54253</td>\n",
       "      <td>151</td>\n",
       "      <td>764</td>\n",
       "      <td>5</td>\n",
       "    </tr>\n",
       "    <tr>\n",
       "      <th>3</th>\n",
       "      <td>RAIaaKEIg9gSJ-B4XcXBwA</td>\n",
       "      <td>ybjy3GVtk25kpZoGc8Nu-Q</td>\n",
       "      <td>eqr5t-Py3oOhIuukz27dEA</td>\n",
       "      <td>2018-12-02 19:25:20</td>\n",
       "      <td>False</td>\n",
       "      <td>0</td>\n",
       "      <td>0.63771</td>\n",
       "      <td>3.04406</td>\n",
       "      <td>0.00000</td>\n",
       "      <td>0.89200</td>\n",
       "      <td>0.55841</td>\n",
       "      <td>0.57003</td>\n",
       "      <td>0.00150</td>\n",
       "      <td>0.00151</td>\n",
       "      <td>0.42545</td>\n",
       "      <td>0.00151</td>\n",
       "      <td>6.10000</td>\n",
       "      <td>0.02428</td>\n",
       "      <td>0.49481</td>\n",
       "      <td>327</td>\n",
       "      <td>1685</td>\n",
       "      <td>1</td>\n",
       "    </tr>\n",
       "    <tr>\n",
       "      <th>4</th>\n",
       "      <td>4fbqvddoQTLa7ChLJDYreg</td>\n",
       "      <td>xivmXoWXkWOubz-2ALK_Iw</td>\n",
       "      <td>CH0xyLeK0ixASWBGIEYkkA</td>\n",
       "      <td>2013-07-23 20:28:22</td>\n",
       "      <td>False</td>\n",
       "      <td>0</td>\n",
       "      <td>0.04768</td>\n",
       "      <td>-2.55960</td>\n",
       "      <td>0.00000</td>\n",
       "      <td>-3.86300</td>\n",
       "      <td>0.25632</td>\n",
       "      <td>0.01018</td>\n",
       "      <td>0.01022</td>\n",
       "      <td>0.95915</td>\n",
       "      <td>0.01019</td>\n",
       "      <td>0.01026</td>\n",
       "      <td>4.60000</td>\n",
       "      <td>0.51250</td>\n",
       "      <td>0.67375</td>\n",
       "      <td>37</td>\n",
       "      <td>198</td>\n",
       "      <td>5</td>\n",
       "    </tr>\n",
       "  </tbody>\n",
       "</table>\n",
       "</div>"
      ],
      "text/plain": [
       "                review_id                 user_id             business_id  \\\n",
       "0  syrAB11Ayj0qb64M3orNyQ  eJTjh_nIJC7ldCuU-z7W5Q  VJj_xjjWX_UHaFNL91_Duw   \n",
       "1  ybCCcr1ICVynGJBx0lpBAw  cibQYbrbI4UoEqeD0vpxmA  Qz-R16P6zvgJrRerqdtIaQ   \n",
       "2  HBuNpb82_z25gLK2htZjZw  wcgCqmw7mx7cEg5jgrgnEA  y2w6rFaO0XEiG5mFfOsiFA   \n",
       "3  RAIaaKEIg9gSJ-B4XcXBwA  ybjy3GVtk25kpZoGc8Nu-Q  eqr5t-Py3oOhIuukz27dEA   \n",
       "4  4fbqvddoQTLa7ChLJDYreg  xivmXoWXkWOubz-2ALK_Iw  CH0xyLeK0ixASWBGIEYkkA   \n",
       "\n",
       "                 date  target_clf  target_reg  log_reg_pred_proba  \\\n",
       "0 2007-04-09 00:41:12       False           0             0.77250   \n",
       "1 2019-03-17 14:17:40       False           0             0.52248   \n",
       "2 2019-04-02 22:12:04        True           4             0.56829   \n",
       "3 2018-12-02 19:25:20       False           0             0.63771   \n",
       "4 2013-07-23 20:28:22       False           0             0.04768   \n",
       "\n",
       "   lin_reg_pred  nb_prob  svm_pred  ft_prob  lda_t1  lda_t2  lda_t3  lda_t4  \\\n",
       "0       3.85699  0.00000   0.80500  0.78156 0.00490 0.00489 0.83379 0.15149   \n",
       "1       2.16479  0.88500  -0.35600  0.61055 0.00686 0.00729 0.97217 0.00684   \n",
       "2       2.71898  0.00400  -0.01400  0.59267 0.00297 0.00297 0.21996 0.51115   \n",
       "3       3.04406  0.00000   0.89200  0.55841 0.57003 0.00150 0.00151 0.42545   \n",
       "4      -2.55960  0.00000  -3.86300  0.25632 0.01018 0.01022 0.95915 0.01019   \n",
       "\n",
       "   lda_t5  grade_level  polarity  subjectivity  word_cnt  character_cnt  \\\n",
       "0 0.00493     12.10000   0.13819       0.58714        91            552   \n",
       "1 0.00685      5.30000   0.44034       0.66364        57            338   \n",
       "2 0.26294     27.60000   0.28628       0.54253       151            764   \n",
       "3 0.00151      6.10000   0.02428       0.49481       327           1685   \n",
       "4 0.01026      4.60000   0.51250       0.67375        37            198   \n",
       "\n",
       "   review_stars  \n",
       "0             4  \n",
       "1             4  \n",
       "2             5  \n",
       "3             1  \n",
       "4             5  "
      ]
     },
     "execution_count": 14,
     "metadata": {},
     "output_type": "execute_result"
    }
   ],
   "source": [
    "all_data.head()"
   ]
  },
  {
   "cell_type": "code",
   "execution_count": 15,
   "id": "greatest-hughes",
   "metadata": {},
   "outputs": [
    {
     "data": {
      "text/html": [
       "<div>\n",
       "<style scoped>\n",
       "    .dataframe tbody tr th:only-of-type {\n",
       "        vertical-align: middle;\n",
       "    }\n",
       "\n",
       "    .dataframe tbody tr th {\n",
       "        vertical-align: top;\n",
       "    }\n",
       "\n",
       "    .dataframe thead th {\n",
       "        text-align: right;\n",
       "    }\n",
       "</style>\n",
       "<table border=\"1\" class=\"dataframe\">\n",
       "  <thead>\n",
       "    <tr style=\"text-align: right;\">\n",
       "      <th></th>\n",
       "      <th>target_reg</th>\n",
       "      <th>log_reg_pred_proba</th>\n",
       "      <th>lin_reg_pred</th>\n",
       "      <th>nb_prob</th>\n",
       "      <th>svm_pred</th>\n",
       "      <th>ft_prob</th>\n",
       "      <th>lda_t1</th>\n",
       "      <th>lda_t2</th>\n",
       "      <th>lda_t3</th>\n",
       "      <th>lda_t4</th>\n",
       "      <th>lda_t5</th>\n",
       "      <th>grade_level</th>\n",
       "      <th>polarity</th>\n",
       "      <th>subjectivity</th>\n",
       "      <th>word_cnt</th>\n",
       "      <th>character_cnt</th>\n",
       "      <th>review_stars</th>\n",
       "    </tr>\n",
       "  </thead>\n",
       "  <tbody>\n",
       "    <tr>\n",
       "      <th>count</th>\n",
       "      <td>6906371.00000</td>\n",
       "      <td>6906371.00000</td>\n",
       "      <td>6906371.00000</td>\n",
       "      <td>6906371.00000</td>\n",
       "      <td>6906371.00000</td>\n",
       "      <td>6906371.00000</td>\n",
       "      <td>6906371.00000</td>\n",
       "      <td>6906371.00000</td>\n",
       "      <td>6906371.00000</td>\n",
       "      <td>6906371.00000</td>\n",
       "      <td>6906371.00000</td>\n",
       "      <td>6906371.00000</td>\n",
       "      <td>6906371.00000</td>\n",
       "      <td>6906371.00000</td>\n",
       "      <td>6906371.00000</td>\n",
       "      <td>6906371.00000</td>\n",
       "      <td>6906371.00000</td>\n",
       "    </tr>\n",
       "    <tr>\n",
       "      <th>mean</th>\n",
       "      <td>2.17175</td>\n",
       "      <td>0.50572</td>\n",
       "      <td>2.17219</td>\n",
       "      <td>0.38203</td>\n",
       "      <td>-0.00991</td>\n",
       "      <td>0.50915</td>\n",
       "      <td>0.17765</td>\n",
       "      <td>0.21172</td>\n",
       "      <td>0.25091</td>\n",
       "      <td>0.15871</td>\n",
       "      <td>0.18486</td>\n",
       "      <td>13.37884</td>\n",
       "      <td>0.23498</td>\n",
       "      <td>0.55845</td>\n",
       "      <td>112.70522</td>\n",
       "      <td>606.26812</td>\n",
       "      <td>3.73077</td>\n",
       "    </tr>\n",
       "    <tr>\n",
       "      <th>std</th>\n",
       "      <td>6.52438</td>\n",
       "      <td>0.20209</td>\n",
       "      <td>1.96208</td>\n",
       "      <td>0.45105</td>\n",
       "      <td>1.45190</td>\n",
       "      <td>0.16511</td>\n",
       "      <td>0.31047</td>\n",
       "      <td>0.36537</td>\n",
       "      <td>0.35534</td>\n",
       "      <td>0.28754</td>\n",
       "      <td>0.30966</td>\n",
       "      <td>19.63479</td>\n",
       "      <td>0.22730</td>\n",
       "      <td>0.13220</td>\n",
       "      <td>104.54801</td>\n",
       "      <td>559.78931</td>\n",
       "      <td>1.45691</td>\n",
       "    </tr>\n",
       "    <tr>\n",
       "      <th>min</th>\n",
       "      <td>0.00000</td>\n",
       "      <td>0.00000</td>\n",
       "      <td>-32.21350</td>\n",
       "      <td>0.00000</td>\n",
       "      <td>-31.33600</td>\n",
       "      <td>-0.00001</td>\n",
       "      <td>0.00040</td>\n",
       "      <td>0.00041</td>\n",
       "      <td>0.00041</td>\n",
       "      <td>0.00042</td>\n",
       "      <td>0.00042</td>\n",
       "      <td>-15.70000</td>\n",
       "      <td>-1.00000</td>\n",
       "      <td>0.00000</td>\n",
       "      <td>1.00000</td>\n",
       "      <td>1.00000</td>\n",
       "      <td>1.00000</td>\n",
       "    </tr>\n",
       "    <tr>\n",
       "      <th>25%</th>\n",
       "      <td>0.00000</td>\n",
       "      <td>0.34461</td>\n",
       "      <td>0.87227</td>\n",
       "      <td>0.00000</td>\n",
       "      <td>-0.88400</td>\n",
       "      <td>0.40110</td>\n",
       "      <td>0.00487</td>\n",
       "      <td>0.00456</td>\n",
       "      <td>0.00513</td>\n",
       "      <td>0.00513</td>\n",
       "      <td>0.00477</td>\n",
       "      <td>5.00000</td>\n",
       "      <td>0.10139</td>\n",
       "      <td>0.48214</td>\n",
       "      <td>45.00000</td>\n",
       "      <td>244.00000</td>\n",
       "      <td>3.00000</td>\n",
       "    </tr>\n",
       "    <tr>\n",
       "      <th>50%</th>\n",
       "      <td>1.00000</td>\n",
       "      <td>0.47114</td>\n",
       "      <td>1.72557</td>\n",
       "      <td>0.02000</td>\n",
       "      <td>-0.44400</td>\n",
       "      <td>0.53175</td>\n",
       "      <td>0.00983</td>\n",
       "      <td>0.00969</td>\n",
       "      <td>0.01376</td>\n",
       "      <td>0.01028</td>\n",
       "      <td>0.01082</td>\n",
       "      <td>7.10000</td>\n",
       "      <td>0.23772</td>\n",
       "      <td>0.55799</td>\n",
       "      <td>81.00000</td>\n",
       "      <td>436.00000</td>\n",
       "      <td>4.00000</td>\n",
       "    </tr>\n",
       "    <tr>\n",
       "      <th>75%</th>\n",
       "      <td>2.00000</td>\n",
       "      <td>0.64672</td>\n",
       "      <td>2.98055</td>\n",
       "      <td>0.99900</td>\n",
       "      <td>0.41800</td>\n",
       "      <td>0.63321</td>\n",
       "      <td>0.20636</td>\n",
       "      <td>0.28591</td>\n",
       "      <td>0.48554</td>\n",
       "      <td>0.18649</td>\n",
       "      <td>0.27340</td>\n",
       "      <td>11.70000</td>\n",
       "      <td>0.37290</td>\n",
       "      <td>0.63778</td>\n",
       "      <td>144.00000</td>\n",
       "      <td>771.00000</td>\n",
       "      <td>5.00000</td>\n",
       "    </tr>\n",
       "    <tr>\n",
       "      <th>max</th>\n",
       "      <td>1457.00000</td>\n",
       "      <td>1.00000</td>\n",
       "      <td>55.01871</td>\n",
       "      <td>1.00000</td>\n",
       "      <td>44.15900</td>\n",
       "      <td>1.00000</td>\n",
       "      <td>0.99805</td>\n",
       "      <td>0.99810</td>\n",
       "      <td>0.99833</td>\n",
       "      <td>0.99810</td>\n",
       "      <td>0.99714</td>\n",
       "      <td>1330.00000</td>\n",
       "      <td>1.00000</td>\n",
       "      <td>1.00000</td>\n",
       "      <td>3602.00000</td>\n",
       "      <td>5000.00000</td>\n",
       "      <td>5.00000</td>\n",
       "    </tr>\n",
       "  </tbody>\n",
       "</table>\n",
       "</div>"
      ],
      "text/plain": [
       "         target_reg  log_reg_pred_proba  lin_reg_pred       nb_prob  \\\n",
       "count 6906371.00000       6906371.00000 6906371.00000 6906371.00000   \n",
       "mean        2.17175             0.50572       2.17219       0.38203   \n",
       "std         6.52438             0.20209       1.96208       0.45105   \n",
       "min         0.00000             0.00000     -32.21350       0.00000   \n",
       "25%         0.00000             0.34461       0.87227       0.00000   \n",
       "50%         1.00000             0.47114       1.72557       0.02000   \n",
       "75%         2.00000             0.64672       2.98055       0.99900   \n",
       "max      1457.00000             1.00000      55.01871       1.00000   \n",
       "\n",
       "           svm_pred       ft_prob        lda_t1        lda_t2        lda_t3  \\\n",
       "count 6906371.00000 6906371.00000 6906371.00000 6906371.00000 6906371.00000   \n",
       "mean       -0.00991       0.50915       0.17765       0.21172       0.25091   \n",
       "std         1.45190       0.16511       0.31047       0.36537       0.35534   \n",
       "min       -31.33600      -0.00001       0.00040       0.00041       0.00041   \n",
       "25%        -0.88400       0.40110       0.00487       0.00456       0.00513   \n",
       "50%        -0.44400       0.53175       0.00983       0.00969       0.01376   \n",
       "75%         0.41800       0.63321       0.20636       0.28591       0.48554   \n",
       "max        44.15900       1.00000       0.99805       0.99810       0.99833   \n",
       "\n",
       "             lda_t4        lda_t5   grade_level      polarity  subjectivity  \\\n",
       "count 6906371.00000 6906371.00000 6906371.00000 6906371.00000 6906371.00000   \n",
       "mean        0.15871       0.18486      13.37884       0.23498       0.55845   \n",
       "std         0.28754       0.30966      19.63479       0.22730       0.13220   \n",
       "min         0.00042       0.00042     -15.70000      -1.00000       0.00000   \n",
       "25%         0.00513       0.00477       5.00000       0.10139       0.48214   \n",
       "50%         0.01028       0.01082       7.10000       0.23772       0.55799   \n",
       "75%         0.18649       0.27340      11.70000       0.37290       0.63778   \n",
       "max         0.99810       0.99714    1330.00000       1.00000       1.00000   \n",
       "\n",
       "           word_cnt  character_cnt  review_stars  \n",
       "count 6906371.00000  6906371.00000 6906371.00000  \n",
       "mean      112.70522      606.26812       3.73077  \n",
       "std       104.54801      559.78931       1.45691  \n",
       "min         1.00000        1.00000       1.00000  \n",
       "25%        45.00000      244.00000       3.00000  \n",
       "50%        81.00000      436.00000       4.00000  \n",
       "75%       144.00000      771.00000       5.00000  \n",
       "max      3602.00000     5000.00000       5.00000  "
      ]
     },
     "execution_count": 15,
     "metadata": {},
     "output_type": "execute_result"
    }
   ],
   "source": [
    "all_data.describe()"
   ]
  },
  {
   "cell_type": "markdown",
   "id": "engaged-intelligence",
   "metadata": {},
   "source": [
    "## Calculate Rankings"
   ]
  },
  {
   "cell_type": "code",
   "execution_count": 22,
   "id": "assured-speed",
   "metadata": {},
   "outputs": [],
   "source": [
    "all_data['actual_rank'] = all_data.groupby('business_id')['target_reg'].rank(ascending=False, method='min').astype('int16')\n",
    "all_data['actual_rank_pct'] = all_data.groupby('business_id')['target_reg'].rank(ascending=False, method='min', pct=True).astype('float32')"
   ]
  },
  {
   "cell_type": "code",
   "execution_count": 23,
   "id": "annoying-knock",
   "metadata": {},
   "outputs": [],
   "source": [
    "all_data['clf_pred_rank'] = all_data.groupby('business_id')['log_reg_pred_proba'].rank(ascending=False, method='min').astype('int16')\n",
    "all_data['clf_pred_rank_pct'] = all_data.groupby('business_id')['log_reg_pred_proba'].rank(ascending=False, method='min', pct=True).astype('float32')"
   ]
  },
  {
   "cell_type": "code",
   "execution_count": 24,
   "id": "sensitive-telescope",
   "metadata": {},
   "outputs": [],
   "source": [
    "all_data['reg_pred_rank'] = all_data.groupby('business_id')['lin_reg_pred'].rank(ascending=False, method='min').astype('int16')\n",
    "all_data['reg_pred_rank_pct'] = all_data.groupby('business_id')['lin_reg_pred'].rank(ascending=False, method='min', pct=True).astype('float32')"
   ]
  },
  {
   "cell_type": "markdown",
   "id": "constitutional-summary",
   "metadata": {},
   "source": [
    "## Compare Regression vs. Classifcation Predictions for Rankings"
   ]
  },
  {
   "cell_type": "markdown",
   "id": "industrial-resource",
   "metadata": {},
   "source": [
    "### MAE"
   ]
  },
  {
   "cell_type": "code",
   "execution_count": 45,
   "id": "eleven-justice",
   "metadata": {},
   "outputs": [
    {
     "name": "stdout",
     "output_type": "stream",
     "text": [
      "Classification Rank MAE: 81.25\n",
      "Regression Rank MAE: 81.09\n"
     ]
    }
   ],
   "source": [
    "clf_mae = ((all_data['actual_rank'] - all_data['clf_pred_rank']).abs().sum()) / len(all_data)\n",
    "reg_mae = ((all_data['actual_rank'] - all_data['reg_pred_rank']).abs().sum()) / len(all_data)\n",
    "print(f\"Classification Rank MAE: {clf_mae:.2f}\")\n",
    "print(f\"Regression Rank MAE: {reg_mae:.2f}\")"
   ]
  },
  {
   "cell_type": "markdown",
   "id": "prompt-bundle",
   "metadata": {},
   "source": [
    "### RMSE"
   ]
  },
  {
   "cell_type": "code",
   "execution_count": 47,
   "id": "absent-potter",
   "metadata": {},
   "outputs": [
    {
     "name": "stdout",
     "output_type": "stream",
     "text": [
      "Classification Rank RMSE: 45.55\n",
      "Regression Rank RMSE: 45.52\n"
     ]
    }
   ],
   "source": [
    "clf_rmse = math.sqrt((((all_data['actual_rank'] - all_data['clf_pred_rank']) ** 2).sum()) / len(all_data))\n",
    "reg_rmse = math.sqrt((((all_data['actual_rank'] - all_data['reg_pred_rank']) ** 2).sum()) / len(all_data))\n",
    "print(f\"Classification Rank RMSE: {clf_rmse:.2f}\")\n",
    "print(f\"Regression Rank RMSE: {reg_rmse:.2f}\")"
   ]
  },
  {
   "cell_type": "markdown",
   "id": "raised-egypt",
   "metadata": {},
   "source": [
    "### R2 Score"
   ]
  },
  {
   "cell_type": "code",
   "execution_count": 49,
   "id": "undefined-context",
   "metadata": {},
   "outputs": [
    {
     "name": "stdout",
     "output_type": "stream",
     "text": [
      "Classification Rank R2 Score: 0.95\n",
      "Regression Rank R2 Score: 0.95\n"
     ]
    }
   ],
   "source": [
    "clf_r2 = r2_score(all_data['actual_rank'], all_data['clf_pred_rank'])\n",
    "reg_r2 = r2_score(all_data['actual_rank'], all_data['reg_pred_rank'])\n",
    "print(f\"Classification Rank R2 Score: {clf_r2:.2f}\")\n",
    "print(f\"Regression Rank R2 Score: {reg_r2:.2f}\")"
   ]
  },
  {
   "cell_type": "markdown",
   "id": "obvious-torture",
   "metadata": {},
   "source": [
    "## Recreate Train/Test and Save Data"
   ]
  },
  {
   "cell_type": "code",
   "execution_count": 51,
   "id": "formed-coast",
   "metadata": {},
   "outputs": [],
   "source": [
    "new_cols = ['review_id',\n",
    "            'actual_rank', 'actual_rank_pct',\n",
    "            'clf_pred_rank', 'clf_pred_rank_pct',\n",
    "            'reg_pred_rank', 'reg_pred_rank_pct']\n",
    "train_rank = train.merge(all_data[new_cols], how='left', on='review_id', validate='1:1')\n",
    "test_rank = test.merge(all_data[new_cols], how='left', on='review_id', validate='1:1')"
   ]
  },
  {
   "cell_type": "code",
   "execution_count": 55,
   "id": "limiting-today",
   "metadata": {},
   "outputs": [],
   "source": [
    "# train_rank.to_csv(f'{filepath_prefix}train_rankings.csv', index=False)\n",
    "# test_rank.to_csv(f'{filepath_prefix}test_rankings.csv', index=False)"
   ]
  }
 ],
 "metadata": {
  "kernelspec": {
   "display_name": "Python 3",
   "language": "python",
   "name": "python3"
  },
  "language_info": {
   "codemirror_mode": {
    "name": "ipython",
    "version": 3
   },
   "file_extension": ".py",
   "mimetype": "text/x-python",
   "name": "python",
   "nbconvert_exporter": "python",
   "pygments_lexer": "ipython3",
   "version": "3.7.7"
  }
 },
 "nbformat": 4,
 "nbformat_minor": 5
}
